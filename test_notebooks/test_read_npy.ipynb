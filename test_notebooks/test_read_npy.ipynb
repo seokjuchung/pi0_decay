{
 "cells": [
  {
   "cell_type": "code",
   "execution_count": 1,
   "id": "7f80b713",
   "metadata": {},
   "outputs": [
    {
     "name": "stdout",
     "output_type": "stream",
     "text": [
      "[[0.0000000e+00 1.3560000e+03 1.0200000e+03 5.3100000e+02 1.8555707e-01]\n",
      " [0.0000000e+00 1.3560000e+03 1.0210000e+03 5.3100000e+02 1.8555707e-01]\n",
      " [0.0000000e+00 1.3560000e+03 1.0220000e+03 5.3100000e+02 4.3978611e-01]\n",
      " ...\n",
      " [3.1000000e+01 1.4400000e+03 8.2000000e+02 1.3210000e+03 7.8018911e-02]\n",
      " [3.1000000e+01 1.5110000e+03 7.6400000e+02 1.4070000e+03 5.7431811e-01]\n",
      " [3.1000000e+01 1.5110000e+03 7.6500000e+02 1.4070000e+03 5.4699087e-01]]\n"
     ]
    }
   ],
   "source": [
    "import numpy as np\n",
    "\n",
    "# Read the npy file\n",
    "data = np.load('/nevis/riverside/data/sc5303/sbnd/offline_ad/pi0/npy/larcv_mc_20250805_190855_243056_4eed27d4-ea61-46ef-b402-53c9055ed799.npy')\n",
    "\n",
    "# Print the content\n",
    "print(data)"
   ]
  }
 ],
 "metadata": {
  "kernelspec": {
   "display_name": "Python 3",
   "language": "python",
   "name": "python3"
  },
  "language_info": {
   "codemirror_mode": {
    "name": "ipython",
    "version": 3
   },
   "file_extension": ".py",
   "mimetype": "text/x-python",
   "name": "python",
   "nbconvert_exporter": "python",
   "pygments_lexer": "ipython3",
   "version": "3.9.18"
  }
 },
 "nbformat": 4,
 "nbformat_minor": 5
}
